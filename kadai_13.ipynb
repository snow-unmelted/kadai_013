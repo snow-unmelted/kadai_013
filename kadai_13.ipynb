{
  "nbformat": 4,
  "nbformat_minor": 0,
  "metadata": {
    "colab": {
      "provenance": []
    },
    "kernelspec": {
      "name": "python3",
      "display_name": "Python 3"
    },
    "language_info": {
      "name": "python"
    }
  },
  "cells": [
    {
      "cell_type": "code",
      "execution_count": 7,
      "metadata": {
        "colab": {
          "base_uri": "https://localhost:8080/"
        },
        "id": "Ki5wMubniBcp",
        "outputId": "eabb242a-8f6f-4638-d2a0-ef063bcb930e"
      },
      "outputs": [
        {
          "output_type": "stream",
          "name": "stdout",
          "text": [
            "金額は1100.0円です。\n"
          ]
        }
      ],
      "source": [
        "def priceintax(price):\n",
        "\n",
        "  tax = 1.1\n",
        "\n",
        "  total = price * tax\n",
        "\n",
        "  print(f\"金額は{total}円です。\")\n",
        "\n",
        "priceintax(1000)"
      ]
    }
  ]
}